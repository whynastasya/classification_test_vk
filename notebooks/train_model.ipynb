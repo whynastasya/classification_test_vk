{
  "nbformat": 4,
  "nbformat_minor": 0,
  "metadata": {
    "colab": {
      "provenance": []
    },
    "kernelspec": {
      "name": "python3",
      "display_name": "Python 3"
    },
    "language_info": {
      "name": "python"
    }
  },
  "cells": [
    {
      "cell_type": "code",
      "execution_count": 33,
      "metadata": {
        "id": "xcW54tt_0YZB"
      },
      "outputs": [],
      "source": [
        "import pandas as pd\n",
        "import numpy as np\n",
        "from sklearn.model_selection import train_test_split, GridSearchCV\n",
        "from sklearn.model_selection import RandomizedSearchCV\n",
        "from xgboost import XGBClassifier\n",
        "from sklearn.metrics import roc_auc_score\n",
        "from sklearn.metrics import make_scorer"
      ]
    },
    {
      "cell_type": "code",
      "source": [
        "train = pd.read_parquet('../data/train.parquet')"
      ],
      "metadata": {
        "id": "ZLknxHl80bXJ"
      },
      "execution_count": null,
      "outputs": []
    },
    {
      "cell_type": "code",
      "source": [
        "train['values'] = train['values'].apply(lambda x: np.array(json.loads(x)) if isinstance(x, str) else x)\n",
        "\n",
        "train['mean'] = train['values'].apply(np.mean)\n",
        "train['std'] = train['values'].apply(np.std)\n",
        "train['median'] = train['values'].apply(np.median)\n",
        "train['min'] = train['values'].apply(np.min)\n",
        "train['max'] = train['values'].apply(np.max)\n",
        "\n",
        "X_train = train[['mean', 'std', 'median', 'min', 'max']]\n",
        "y_train = train['label']"
      ],
      "metadata": {
        "id": "OB-coGGr1Wlz",
        "colab": {
          "base_uri": "https://localhost:8080/"
        },
        "outputId": "4f76c28f-ecbf-4741-ba38-9a4aee503415"
      },
      "execution_count": 27,
      "outputs": [
        {
          "output_type": "stream",
          "name": "stdout",
          "text": [
            "(80000, 5)\n",
            "(80000,)\n"
          ]
        }
      ]
    },
    {
      "cell_type": "code",
      "source": [
        "param_grid_xgb = {\n",
        "    'n_estimators': [100, 150],\n",
        "    'max_depth': [3, 5, 7],\n",
        "    'learning_rate': [0.01, 0.1],\n",
        "    'subsample': [0.8],\n",
        "    'colsample_bytree': [0.8]\n",
        "}"
      ],
      "metadata": {
        "id": "-ygFgqk97fRI"
      },
      "execution_count": 31,
      "outputs": []
    },
    {
      "cell_type": "code",
      "source": [
        "xgb = XGBClassifier(eval_metric='auc', use_label_encoder=False)\n",
        "\n",
        "random_search_xgb = RandomizedSearchCV(estimator=xgb,\n",
        "                                        param_distributions=param_grid_xgb,\n",
        "                                        n_iter=12,\n",
        "                                        scoring='roc_auc',\n",
        "                                        cv=3,\n",
        "                                        n_jobs=-1,\n",
        "                                        verbose=2,\n",
        "                                        random_state=42)\n",
        "\n",
        "X_val = X_train.sample(frac=0.2, random_state=42)\n",
        "y_val = y_train[X_val.index]\n",
        "\n",
        "random_search_xgb.fit(X_train, y_train)\n",
        "\n",
        "print(\"Лучшие параметры для XGBoost:\", random_search_xgb.best_params_)\n",
        "print(\"Лучший ROC AUC на валидационной выборке (XGBoost):\", random_search_xgb.best_score_)"
      ],
      "metadata": {
        "colab": {
          "base_uri": "https://localhost:8080/"
        },
        "id": "SurtEbvi0vUR",
        "outputId": "2c60ac92-6c56-4388-fe38-f14e4405c1cd"
      },
      "execution_count": 36,
      "outputs": [
        {
          "output_type": "stream",
          "name": "stdout",
          "text": [
            "Fitting 3 folds for each of 12 candidates, totalling 36 fits\n"
          ]
        },
        {
          "output_type": "stream",
          "name": "stderr",
          "text": [
            "/usr/local/lib/python3.10/dist-packages/xgboost/core.py:158: UserWarning: [19:38:49] WARNING: /workspace/src/learner.cc:740: \n",
            "Parameters: { \"use_label_encoder\" } are not used.\n",
            "\n",
            "  warnings.warn(smsg, UserWarning)\n"
          ]
        },
        {
          "output_type": "stream",
          "name": "stdout",
          "text": [
            "Лучшие параметры для XGBoost: {'subsample': 0.8, 'n_estimators': 100, 'max_depth': 5, 'learning_rate': 0.1, 'colsample_bytree': 0.8}\n",
            "Лучший ROC AUC на валидационной выборке (XGBoost): 0.8274594557697044\n"
          ]
        }
      ]
    },
    {
      "cell_type": "code",
      "source": [
        "best_xgb_model = random_search_xgb.best_estimator_\n",
        "y_val_pred_proba_xgb = best_xgb_model.predict_proba(X_val)[:, 1]\n",
        "roc_auc_xgb = roc_auc_score(y_val, y_val_pred_proba_xgb)\n",
        "\n",
        "print(\"ROC AUC на валидационной выборке (XGBoost):\", roc_auc_xgb)"
      ],
      "metadata": {
        "id": "MjSCQ0nq41UZ",
        "colab": {
          "base_uri": "https://localhost:8080/"
        },
        "outputId": "f6b950c6-fcb2-4875-f289-06e318b3d899"
      },
      "execution_count": 38,
      "outputs": [
        {
          "output_type": "stream",
          "name": "stdout",
          "text": [
            "ROC AUC на валидационной выборке (XGBoost): 0.8356503472642856\n"
          ]
        }
      ]
    },
    {
      "cell_type": "code",
      "source": [
        "joblib.dump(best_model, '../data/best_model.pkl')"
      ],
      "metadata": {
        "id": "WARFemidAUPc"
      },
      "execution_count": null,
      "outputs": []
    }
  ]
}