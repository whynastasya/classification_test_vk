{
  "nbformat": 4,
  "nbformat_minor": 0,
  "metadata": {
    "colab": {
      "provenance": [],
      "gpuType": "T4"
    },
    "kernelspec": {
      "name": "python3",
      "display_name": "Python 3"
    },
    "language_info": {
      "name": "python"
    },
    "accelerator": "GPU"
  },
  "cells": [
    {
      "cell_type": "markdown",
      "source": [],
      "metadata": {
        "id": "M6diLy0v0SAf"
      }
    },
    {
      "cell_type": "code",
      "execution_count": 1,
      "metadata": {
        "id": "IA_31lr-lVxy"
      },
      "outputs": [],
      "source": [
        "import pandas as pd\n",
        "import numpy as np\n",
        "import matplotlib.pyplot as plt\n",
        "import seaborn as sns\n",
        "from scipy.fft import rfft\n",
        "import statsmodels.api as sm"
      ]
    },
    {
      "cell_type": "code",
      "source": [
        "train = pd.read_parquet('train.parquet')"
      ],
      "metadata": {
        "id": "YxRWtbzCltbF"
      },
      "execution_count": 3,
      "outputs": []
    },
    {
      "cell_type": "code",
      "source": [
        "train.info()\n",
        "train.head()"
      ],
      "metadata": {
        "id": "7VjZxIdv-DFB",
        "colab": {
          "base_uri": "https://localhost:8080/",
          "height": 397
        },
        "outputId": "eb1ef316-2387-4d24-bc92-27bf5e1eaf15"
      },
      "execution_count": 4,
      "outputs": [
        {
          "output_type": "stream",
          "name": "stdout",
          "text": [
            "<class 'pandas.core.frame.DataFrame'>\n",
            "RangeIndex: 80000 entries, 0 to 79999\n",
            "Data columns (total 4 columns):\n",
            " #   Column  Non-Null Count  Dtype  \n",
            "---  ------  --------------  -----  \n",
            " 0   id      80000 non-null  int64  \n",
            " 1   dates   80000 non-null  object \n",
            " 2   values  80000 non-null  object \n",
            " 3   label   80000 non-null  float64\n",
            "dtypes: float64(1), int64(1), object(2)\n",
            "memory usage: 2.4+ MB\n"
          ]
        },
        {
          "output_type": "execute_result",
          "data": {
            "text/plain": [
              "      id                                              dates  \\\n",
              "0  19114  [2016-01-01, 2016-02-01, 2016-03-01, 2016-04-0...   \n",
              "1  22769  [2016-05-01, 2016-06-01, 2016-07-01, 2016-08-0...   \n",
              "2  76935  [2017-03-01, 2017-04-01, 2017-05-01, 2017-06-0...   \n",
              "3  66297  [2016-01-01, 2016-02-01, 2016-03-01, 2016-04-0...   \n",
              "4   2191  [2016-01-01, 2016-02-01, 2016-03-01, 2016-04-0...   \n",
              "\n",
              "                                              values  label  \n",
              "0  [-1.86, 0.79, 1.4, 0.15, 0.0, -1.24, -1.46, 3....    0.0  \n",
              "1  [-1.04, -3.48, 0.05, -0.13, -0.01, 0.03, 0.27,...    1.0  \n",
              "2  [0.28, 0.63, 0.06, 0.96, -1.4, -0.3, 1.62, 1.1...    0.0  \n",
              "3  [-0.33, 0.58, 1.1, -0.56, -0.95, -0.61, -0.7, ...    0.0  \n",
              "4  [1.31, 0.5, -0.54, 0.95, 0.65, 0.83, -1.55, -0...    0.0  "
            ],
            "text/html": [
              "\n",
              "  <div id=\"df-e3e7942b-5f7d-44d7-a6b7-4192edfaa890\" class=\"colab-df-container\">\n",
              "    <div>\n",
              "<style scoped>\n",
              "    .dataframe tbody tr th:only-of-type {\n",
              "        vertical-align: middle;\n",
              "    }\n",
              "\n",
              "    .dataframe tbody tr th {\n",
              "        vertical-align: top;\n",
              "    }\n",
              "\n",
              "    .dataframe thead th {\n",
              "        text-align: right;\n",
              "    }\n",
              "</style>\n",
              "<table border=\"1\" class=\"dataframe\">\n",
              "  <thead>\n",
              "    <tr style=\"text-align: right;\">\n",
              "      <th></th>\n",
              "      <th>id</th>\n",
              "      <th>dates</th>\n",
              "      <th>values</th>\n",
              "      <th>label</th>\n",
              "    </tr>\n",
              "  </thead>\n",
              "  <tbody>\n",
              "    <tr>\n",
              "      <th>0</th>\n",
              "      <td>19114</td>\n",
              "      <td>[2016-01-01, 2016-02-01, 2016-03-01, 2016-04-0...</td>\n",
              "      <td>[-1.86, 0.79, 1.4, 0.15, 0.0, -1.24, -1.46, 3....</td>\n",
              "      <td>0.0</td>\n",
              "    </tr>\n",
              "    <tr>\n",
              "      <th>1</th>\n",
              "      <td>22769</td>\n",
              "      <td>[2016-05-01, 2016-06-01, 2016-07-01, 2016-08-0...</td>\n",
              "      <td>[-1.04, -3.48, 0.05, -0.13, -0.01, 0.03, 0.27,...</td>\n",
              "      <td>1.0</td>\n",
              "    </tr>\n",
              "    <tr>\n",
              "      <th>2</th>\n",
              "      <td>76935</td>\n",
              "      <td>[2017-03-01, 2017-04-01, 2017-05-01, 2017-06-0...</td>\n",
              "      <td>[0.28, 0.63, 0.06, 0.96, -1.4, -0.3, 1.62, 1.1...</td>\n",
              "      <td>0.0</td>\n",
              "    </tr>\n",
              "    <tr>\n",
              "      <th>3</th>\n",
              "      <td>66297</td>\n",
              "      <td>[2016-01-01, 2016-02-01, 2016-03-01, 2016-04-0...</td>\n",
              "      <td>[-0.33, 0.58, 1.1, -0.56, -0.95, -0.61, -0.7, ...</td>\n",
              "      <td>0.0</td>\n",
              "    </tr>\n",
              "    <tr>\n",
              "      <th>4</th>\n",
              "      <td>2191</td>\n",
              "      <td>[2016-01-01, 2016-02-01, 2016-03-01, 2016-04-0...</td>\n",
              "      <td>[1.31, 0.5, -0.54, 0.95, 0.65, 0.83, -1.55, -0...</td>\n",
              "      <td>0.0</td>\n",
              "    </tr>\n",
              "  </tbody>\n",
              "</table>\n",
              "</div>\n",
              "    <div class=\"colab-df-buttons\">\n",
              "\n",
              "  <div class=\"colab-df-container\">\n",
              "    <button class=\"colab-df-convert\" onclick=\"convertToInteractive('df-e3e7942b-5f7d-44d7-a6b7-4192edfaa890')\"\n",
              "            title=\"Convert this dataframe to an interactive table.\"\n",
              "            style=\"display:none;\">\n",
              "\n",
              "  <svg xmlns=\"http://www.w3.org/2000/svg\" height=\"24px\" viewBox=\"0 -960 960 960\">\n",
              "    <path d=\"M120-120v-720h720v720H120Zm60-500h600v-160H180v160Zm220 220h160v-160H400v160Zm0 220h160v-160H400v160ZM180-400h160v-160H180v160Zm440 0h160v-160H620v160ZM180-180h160v-160H180v160Zm440 0h160v-160H620v160Z\"/>\n",
              "  </svg>\n",
              "    </button>\n",
              "\n",
              "  <style>\n",
              "    .colab-df-container {\n",
              "      display:flex;\n",
              "      gap: 12px;\n",
              "    }\n",
              "\n",
              "    .colab-df-convert {\n",
              "      background-color: #E8F0FE;\n",
              "      border: none;\n",
              "      border-radius: 50%;\n",
              "      cursor: pointer;\n",
              "      display: none;\n",
              "      fill: #1967D2;\n",
              "      height: 32px;\n",
              "      padding: 0 0 0 0;\n",
              "      width: 32px;\n",
              "    }\n",
              "\n",
              "    .colab-df-convert:hover {\n",
              "      background-color: #E2EBFA;\n",
              "      box-shadow: 0px 1px 2px rgba(60, 64, 67, 0.3), 0px 1px 3px 1px rgba(60, 64, 67, 0.15);\n",
              "      fill: #174EA6;\n",
              "    }\n",
              "\n",
              "    .colab-df-buttons div {\n",
              "      margin-bottom: 4px;\n",
              "    }\n",
              "\n",
              "    [theme=dark] .colab-df-convert {\n",
              "      background-color: #3B4455;\n",
              "      fill: #D2E3FC;\n",
              "    }\n",
              "\n",
              "    [theme=dark] .colab-df-convert:hover {\n",
              "      background-color: #434B5C;\n",
              "      box-shadow: 0px 1px 3px 1px rgba(0, 0, 0, 0.15);\n",
              "      filter: drop-shadow(0px 1px 2px rgba(0, 0, 0, 0.3));\n",
              "      fill: #FFFFFF;\n",
              "    }\n",
              "  </style>\n",
              "\n",
              "    <script>\n",
              "      const buttonEl =\n",
              "        document.querySelector('#df-e3e7942b-5f7d-44d7-a6b7-4192edfaa890 button.colab-df-convert');\n",
              "      buttonEl.style.display =\n",
              "        google.colab.kernel.accessAllowed ? 'block' : 'none';\n",
              "\n",
              "      async function convertToInteractive(key) {\n",
              "        const element = document.querySelector('#df-e3e7942b-5f7d-44d7-a6b7-4192edfaa890');\n",
              "        const dataTable =\n",
              "          await google.colab.kernel.invokeFunction('convertToInteractive',\n",
              "                                                    [key], {});\n",
              "        if (!dataTable) return;\n",
              "\n",
              "        const docLinkHtml = 'Like what you see? Visit the ' +\n",
              "          '<a target=\"_blank\" href=https://colab.research.google.com/notebooks/data_table.ipynb>data table notebook</a>'\n",
              "          + ' to learn more about interactive tables.';\n",
              "        element.innerHTML = '';\n",
              "        dataTable['output_type'] = 'display_data';\n",
              "        await google.colab.output.renderOutput(dataTable, element);\n",
              "        const docLink = document.createElement('div');\n",
              "        docLink.innerHTML = docLinkHtml;\n",
              "        element.appendChild(docLink);\n",
              "      }\n",
              "    </script>\n",
              "  </div>\n",
              "\n",
              "\n",
              "<div id=\"df-481f1971-de73-4b9b-875c-b3ea8383a6e3\">\n",
              "  <button class=\"colab-df-quickchart\" onclick=\"quickchart('df-481f1971-de73-4b9b-875c-b3ea8383a6e3')\"\n",
              "            title=\"Suggest charts\"\n",
              "            style=\"display:none;\">\n",
              "\n",
              "<svg xmlns=\"http://www.w3.org/2000/svg\" height=\"24px\"viewBox=\"0 0 24 24\"\n",
              "     width=\"24px\">\n",
              "    <g>\n",
              "        <path d=\"M19 3H5c-1.1 0-2 .9-2 2v14c0 1.1.9 2 2 2h14c1.1 0 2-.9 2-2V5c0-1.1-.9-2-2-2zM9 17H7v-7h2v7zm4 0h-2V7h2v10zm4 0h-2v-4h2v4z\"/>\n",
              "    </g>\n",
              "</svg>\n",
              "  </button>\n",
              "\n",
              "<style>\n",
              "  .colab-df-quickchart {\n",
              "      --bg-color: #E8F0FE;\n",
              "      --fill-color: #1967D2;\n",
              "      --hover-bg-color: #E2EBFA;\n",
              "      --hover-fill-color: #174EA6;\n",
              "      --disabled-fill-color: #AAA;\n",
              "      --disabled-bg-color: #DDD;\n",
              "  }\n",
              "\n",
              "  [theme=dark] .colab-df-quickchart {\n",
              "      --bg-color: #3B4455;\n",
              "      --fill-color: #D2E3FC;\n",
              "      --hover-bg-color: #434B5C;\n",
              "      --hover-fill-color: #FFFFFF;\n",
              "      --disabled-bg-color: #3B4455;\n",
              "      --disabled-fill-color: #666;\n",
              "  }\n",
              "\n",
              "  .colab-df-quickchart {\n",
              "    background-color: var(--bg-color);\n",
              "    border: none;\n",
              "    border-radius: 50%;\n",
              "    cursor: pointer;\n",
              "    display: none;\n",
              "    fill: var(--fill-color);\n",
              "    height: 32px;\n",
              "    padding: 0;\n",
              "    width: 32px;\n",
              "  }\n",
              "\n",
              "  .colab-df-quickchart:hover {\n",
              "    background-color: var(--hover-bg-color);\n",
              "    box-shadow: 0 1px 2px rgba(60, 64, 67, 0.3), 0 1px 3px 1px rgba(60, 64, 67, 0.15);\n",
              "    fill: var(--button-hover-fill-color);\n",
              "  }\n",
              "\n",
              "  .colab-df-quickchart-complete:disabled,\n",
              "  .colab-df-quickchart-complete:disabled:hover {\n",
              "    background-color: var(--disabled-bg-color);\n",
              "    fill: var(--disabled-fill-color);\n",
              "    box-shadow: none;\n",
              "  }\n",
              "\n",
              "  .colab-df-spinner {\n",
              "    border: 2px solid var(--fill-color);\n",
              "    border-color: transparent;\n",
              "    border-bottom-color: var(--fill-color);\n",
              "    animation:\n",
              "      spin 1s steps(1) infinite;\n",
              "  }\n",
              "\n",
              "  @keyframes spin {\n",
              "    0% {\n",
              "      border-color: transparent;\n",
              "      border-bottom-color: var(--fill-color);\n",
              "      border-left-color: var(--fill-color);\n",
              "    }\n",
              "    20% {\n",
              "      border-color: transparent;\n",
              "      border-left-color: var(--fill-color);\n",
              "      border-top-color: var(--fill-color);\n",
              "    }\n",
              "    30% {\n",
              "      border-color: transparent;\n",
              "      border-left-color: var(--fill-color);\n",
              "      border-top-color: var(--fill-color);\n",
              "      border-right-color: var(--fill-color);\n",
              "    }\n",
              "    40% {\n",
              "      border-color: transparent;\n",
              "      border-right-color: var(--fill-color);\n",
              "      border-top-color: var(--fill-color);\n",
              "    }\n",
              "    60% {\n",
              "      border-color: transparent;\n",
              "      border-right-color: var(--fill-color);\n",
              "    }\n",
              "    80% {\n",
              "      border-color: transparent;\n",
              "      border-right-color: var(--fill-color);\n",
              "      border-bottom-color: var(--fill-color);\n",
              "    }\n",
              "    90% {\n",
              "      border-color: transparent;\n",
              "      border-bottom-color: var(--fill-color);\n",
              "    }\n",
              "  }\n",
              "</style>\n",
              "\n",
              "  <script>\n",
              "    async function quickchart(key) {\n",
              "      const quickchartButtonEl =\n",
              "        document.querySelector('#' + key + ' button');\n",
              "      quickchartButtonEl.disabled = true;  // To prevent multiple clicks.\n",
              "      quickchartButtonEl.classList.add('colab-df-spinner');\n",
              "      try {\n",
              "        const charts = await google.colab.kernel.invokeFunction(\n",
              "            'suggestCharts', [key], {});\n",
              "      } catch (error) {\n",
              "        console.error('Error during call to suggestCharts:', error);\n",
              "      }\n",
              "      quickchartButtonEl.classList.remove('colab-df-spinner');\n",
              "      quickchartButtonEl.classList.add('colab-df-quickchart-complete');\n",
              "    }\n",
              "    (() => {\n",
              "      let quickchartButtonEl =\n",
              "        document.querySelector('#df-481f1971-de73-4b9b-875c-b3ea8383a6e3 button');\n",
              "      quickchartButtonEl.style.display =\n",
              "        google.colab.kernel.accessAllowed ? 'block' : 'none';\n",
              "    })();\n",
              "  </script>\n",
              "</div>\n",
              "\n",
              "    </div>\n",
              "  </div>\n"
            ],
            "application/vnd.google.colaboratory.intrinsic+json": {
              "type": "dataframe",
              "variable_name": "train",
              "summary": "{\n  \"name\": \"train\",\n  \"rows\": 80000,\n  \"fields\": [\n    {\n      \"column\": \"id\",\n      \"properties\": {\n        \"dtype\": \"number\",\n        \"std\": 28857,\n        \"min\": 0,\n        \"max\": 99999,\n        \"num_unique_values\": 80000,\n        \"samples\": [\n          85275,\n          94561,\n          57746\n        ],\n        \"semantic_type\": \"\",\n        \"description\": \"\"\n      }\n    },\n    {\n      \"column\": \"dates\",\n      \"properties\": {\n        \"dtype\": \"object\",\n        \"semantic_type\": \"\",\n        \"description\": \"\"\n      }\n    },\n    {\n      \"column\": \"values\",\n      \"properties\": {\n        \"dtype\": \"object\",\n        \"semantic_type\": \"\",\n        \"description\": \"\"\n      }\n    },\n    {\n      \"column\": \"label\",\n      \"properties\": {\n        \"dtype\": \"number\",\n        \"std\": 0.447643767198927,\n        \"min\": 0.0,\n        \"max\": 1.0,\n        \"num_unique_values\": 2,\n        \"samples\": [\n          1.0,\n          0.0\n        ],\n        \"semantic_type\": \"\",\n        \"description\": \"\"\n      }\n    }\n  ]\n}"
            }
          },
          "metadata": {},
          "execution_count": 4
        }
      ]
    },
    {
      "cell_type": "code",
      "source": [
        "print(\"Пропуски:\")\n",
        "print(train.isnull().sum())"
      ],
      "metadata": {
        "id": "AulT5udrqzZP",
        "colab": {
          "base_uri": "https://localhost:8080/"
        },
        "outputId": "fb9cd888-06ff-4fe8-f1d2-54baab6229bc"
      },
      "execution_count": 5,
      "outputs": [
        {
          "output_type": "stream",
          "name": "stdout",
          "text": [
            "Пропуски:\n",
            "id        0\n",
            "dates     0\n",
            "values    0\n",
            "label     0\n",
            "dtype: int64\n"
          ]
        }
      ]
    },
    {
      "cell_type": "code",
      "source": [
        "def extract_statistics(series):\n",
        "    return {\n",
        "        'mean': np.mean(series),\n",
        "        'std': np.std(series),\n",
        "        'median': np.median(series),\n",
        "        'min': np.min(series),\n",
        "        'max': np.max(series),\n",
        "        'trend': np.polyfit(np.arange(len(series)), series, 1)[0],\n",
        "        'num_outliers': np.sum(np.abs((series - np.mean(series)) / np.std(series)) > 3)\n",
        "    }\n",
        "\n",
        "stats = train['values'].apply(extract_statistics).apply(pd.Series)\n",
        "train = pd.concat([train, stats], axis=1)"
      ],
      "metadata": {
        "id": "KczlCNyrlva2"
      },
      "execution_count": 6,
      "outputs": []
    },
    {
      "cell_type": "code",
      "source": [
        "train_exploded = train.explode('dates')\n",
        "train_exploded['dates'] = pd.to_datetime(train_exploded['dates'])\n",
        "\n",
        "train_exploded['day_of_week'] = train_exploded['dates'].dt.dayofweek\n",
        "train_exploded['month'] = train_exploded['dates'].dt.month\n",
        "train_exploded['year'] = train_exploded['dates'].dt.year"
      ],
      "metadata": {
        "id": "FCEP0aTJlvYW"
      },
      "execution_count": 7,
      "outputs": []
    },
    {
      "cell_type": "code",
      "source": [
        "def fourier_transform(series):\n",
        "    fft_result = rfft(series)\n",
        "    return np.abs(fft_result)\n",
        "\n",
        "train['fft'] = train['values'].apply(fourier_transform)"
      ],
      "metadata": {
        "id": "1CrJmAgZlvWF"
      },
      "execution_count": 8,
      "outputs": []
    },
    {
      "cell_type": "code",
      "source": [
        "def autocorrelation_features(series, lags=5):\n",
        "    return [sm.tsa.stattools.acf(series, nlags=lags)[i] for i in range(1, lags + 1)]\n",
        "\n",
        "autocorr = train['values'].apply(autocorrelation_features)\n",
        "autocorr_df = pd.DataFrame(autocorr.tolist(), columns=[f'autocorr_lag_{i}' for i in range(1, 6)])\n",
        "train = pd.concat([train, autocorr_df], axis=1)"
      ],
      "metadata": {
        "id": "B68LeQPDlvPQ"
      },
      "execution_count": 9,
      "outputs": []
    },
    {
      "cell_type": "code",
      "source": [
        "print(train['values'].isnull().sum())"
      ],
      "metadata": {
        "id": "yPYvJr_brMw5",
        "colab": {
          "base_uri": "https://localhost:8080/"
        },
        "outputId": "4ecb2dd3-b627-4154-b0c0-7735b10d3117"
      },
      "execution_count": 14,
      "outputs": [
        {
          "output_type": "stream",
          "name": "stdout",
          "text": [
            "0\n"
          ]
        }
      ]
    },
    {
      "cell_type": "code",
      "source": [
        "expanded_values = pd.DataFrame(train['values'].tolist()).melt()\n",
        "train['values'] = expanded_values['value'].astype(float)\n",
        "\n",
        "mean_value = train['values'].mean()\n",
        "std_value = train['values'].std()\n",
        "\n",
        "if std_value != 0:\n",
        "    z_scores = (train['values'] - mean_value) / std_value\n",
        "    outliers = np.abs(z_scores) > 3\n",
        "    train.loc[outliers, 'values'] = np.nan\n",
        "    train['values'] = train['values'].fillna(mean_value)\n",
        "else:\n",
        "    print(\"Все значения одинаковые.\")\n",
        "\n",
        "print(train['values'].describe())"
      ],
      "metadata": {
        "id": "AI0R_Y4TAyab",
        "colab": {
          "base_uri": "https://localhost:8080/"
        },
        "outputId": "611ac41d-9e1b-40f5-d6ec-d13643a6954d"
      },
      "execution_count": 22,
      "outputs": [
        {
          "output_type": "stream",
          "name": "stdout",
          "text": [
            "count    80000.00000\n",
            "mean         0.43975\n",
            "std          1.37931\n",
            "min         -3.70000\n",
            "25%         -0.52000\n",
            "50%          0.44000\n",
            "75%          1.40000\n",
            "max          4.58000\n",
            "Name: values, dtype: float64\n"
          ]
        }
      ]
    },
    {
      "cell_type": "code",
      "source": [
        "plt.figure(figsize=(12, 6))\n",
        "sns.histplot(train['values'], bins=30, kde=True)\n",
        "plt.title('Распределение значений')\n",
        "plt.xlabel('Значения')\n",
        "plt.ylabel('Частота')\n",
        "plt.grid(True)\n",
        "plt.show()"
      ],
      "metadata": {
        "id": "2GUJ9KUWrV8W",
        "colab": {
          "base_uri": "https://localhost:8080/",
          "height": 540
        },
        "outputId": "a4fea106-3734-4044-e915-13bdafd351bc"
      },
      "execution_count": 23,
      "outputs": [
        {
          "output_type": "display_data",
          "data": {
            "text/plain": [
              "<Figure size 1200x600 with 1 Axes>"
            ],
            "image/png": "[encoded data removed]"
          },
          "metadata": {}
        }
      ]
    },
    {
      "cell_type": "code",
      "source": [
        "print(train.head())\n",
        "print(train.describe())"
      ],
      "metadata": {
        "id": "89tR4jOqlvGy",
        "colab": {
          "base_uri": "https://localhost:8080/"
        },
        "outputId": "1909f823-c7bd-4ede-9f20-800c33a59600"
      },
      "execution_count": 21,
      "outputs": [
        {
          "output_type": "stream",
          "name": "stdout",
          "text": [
            "      id                                              dates  values  label  \\\n",
            "0  19114  [2016-01-01, 2016-02-01, 2016-03-01, 2016-04-0...   -1.86    0.0   \n",
            "1  22769  [2016-05-01, 2016-06-01, 2016-07-01, 2016-08-0...   -1.04    1.0   \n",
            "2  76935  [2017-03-01, 2017-04-01, 2017-05-01, 2017-06-0...    0.28    0.0   \n",
            "3  66297  [2016-01-01, 2016-02-01, 2016-03-01, 2016-04-0...   -0.33    0.0   \n",
            "4   2191  [2016-01-01, 2016-02-01, 2016-03-01, 2016-04-0...    1.31    0.0   \n",
            "\n",
            "       mean       std    median       min   max     trend  num_outliers  \\\n",
            "0  0.023710  1.337272 -0.110000 -4.840000  3.49 -0.011222           1.0   \n",
            "1 -0.310777  1.556337 -0.274409 -3.534409  2.92 -0.026755           0.0   \n",
            "2 -0.046042  1.065023 -0.145000 -1.950000  2.61 -0.032482           0.0   \n",
            "3 -0.130000  1.158201 -0.345000 -2.220000  2.49  0.049298           0.0   \n",
            "4 -0.270536  1.270529 -0.475000 -2.500000  2.87 -0.011478           0.0   \n",
            "\n",
            "                                                 fft  autocorr_lag_1  \\\n",
            "0  [1.4699999999999989, 11.308932349136578, 4.484...       -0.111439   \n",
            "1  [13.984957017678557, 19.890792462687223, 9.176...        0.189286   \n",
            "2  [2.2100000000000004, 20.51439155873753, 5.3759...        0.500204   \n",
            "3  [6.24, 30.75772108580178, 4.1312753467152845, ...        0.688139   \n",
            "4  [15.149999999999999, 5.319691984766743, 2.6690...        0.087387   \n",
            "\n",
            "   autocorr_lag_2  autocorr_lag_3  autocorr_lag_4  autocorr_lag_5  \n",
            "0       -0.096472       -0.056736        0.120169       -0.243817  \n",
            "1        0.023428        0.016685        0.025687        0.029633  \n",
            "2        0.356705        0.208786        0.135737        0.099907  \n",
            "3        0.500714        0.563823        0.450229        0.373507  \n",
            "4       -0.145388       -0.092080       -0.081555       -0.153137  \n",
            "                 id        values         label          mean           std  \\\n",
            "count  80000.000000  80000.000000  80000.000000  79912.000000  79912.000000   \n",
            "mean   50107.893162      0.439750      0.277250     -0.031980      1.214052   \n",
            "std    28857.649778      1.380721      0.447644      0.109895      0.137702   \n",
            "min        0.000000     -3.730000      0.000000     -1.024356      0.816815   \n",
            "25%    25122.500000     -0.530000      0.000000     -0.091549      1.110445   \n",
            "50%    50146.500000      0.440000      0.000000     -0.020944      1.210340   \n",
            "75%    75064.250000      1.400000      1.000000      0.032836      1.308255   \n",
            "max    99999.000000      4.610000      1.000000      0.607917      1.921515   \n",
            "\n",
            "             median           min           max         trend  num_outliers  \\\n",
            "count  79912.000000  79912.000000  79912.000000  79912.000000  80000.000000   \n",
            "mean      -0.098078     -2.618363      3.010728     -0.006294      0.286237   \n",
            "std        0.204955      0.829800      0.826934      0.022804      0.620170   \n",
            "min       -1.190068     -7.950000      0.140000     -0.102996      0.000000   \n",
            "25%       -0.235000     -3.100000      2.490000     -0.021054      0.000000   \n",
            "50%       -0.100000     -2.617580      2.893611     -0.006178      0.000000   \n",
            "75%        0.040000     -2.160000      3.380000      0.007919      0.000000   \n",
            "max        0.870000     -0.100000      9.540000      0.088331      6.000000   \n",
            "\n",
            "       autocorr_lag_1  autocorr_lag_2  autocorr_lag_3  autocorr_lag_4  \\\n",
            "count    79912.000000    79912.000000    79912.000000    79912.000000   \n",
            "mean         0.391149        0.256991        0.138834        0.044169   \n",
            "std          0.219502        0.211339        0.215116        0.233371   \n",
            "min         -0.514103       -0.548442       -0.551952       -0.543783   \n",
            "25%          0.249226        0.116549       -0.011727       -0.127700   \n",
            "50%          0.397364        0.237678        0.093459        0.003374   \n",
            "75%          0.531321        0.374550        0.253796        0.177947   \n",
            "max          0.971529        0.954249        0.931538        0.909069   \n",
            "\n",
            "       autocorr_lag_5  \n",
            "count    79912.000000  \n",
            "mean        -0.016712  \n",
            "std          0.253816  \n",
            "min         -0.688544  \n",
            "25%         -0.197791  \n",
            "50%         -0.033172  \n",
            "75%          0.137583  \n",
            "max          0.882159  \n"
          ]
        }
      ]
    }
  ]
}